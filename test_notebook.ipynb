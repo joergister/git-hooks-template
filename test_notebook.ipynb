{
 "cells": [
  {
   "cell_type": "code",
   "execution_count": null,
   "metadata": {},
   "outputs": [],
   "source": [
    "def bad_function(x):\n",
    "# Add a comment to trigger git hooks\n",
    "    return x+1  # No spaces around operator\n",
    "\n",
    "def missing_hints(y):\n",
    "    return y.upper()"
   ]
  },
  {
   "cell_type": "code",
   "execution_count": null,
   "metadata": {},
   "outputs": [],
   "source": [
    "class NotebookClass:\n",
    "    def __init__(self):\n",
    "        self.val = 0\n",
    "    \n",
    "    def increment(self):\n",
    "        self.val +=1  # No space\n",
    "    \n",
    "    def get_val(self) -> str:  # Wrong return type hint\n",
    "        return self.val"
   ]
  }
 ],
 "metadata": {
  "kernelspec": {
   "display_name": "Python 3",
   "language": "python",
   "name": "python3"
  },
  "language_info": {
   "codemirror_mode": {
    "name": "ipython",
    "version": 3
   },
   "file_extension": ".py",
   "mimetype": "text/x-python",
   "name": "python",
   "nbconvert_exporter": "python",
   "pygments_lexer": "ipython3",
   "version": "3.9.0"
  }
 },
 "nbformat": 4,
 "nbformat_minor": 4
}
